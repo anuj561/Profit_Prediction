{
 "cells": [
  {
   "cell_type": "code",
   "execution_count": 1,
   "metadata": {},
   "outputs": [],
   "source": [
    "import pandas as pd \n",
    "import numpy as np \n",
    "from numpy import math\n",
    "import matplotlib.pyplot as plt"
   ]
  },
  {
   "cell_type": "code",
   "execution_count": 2,
   "metadata": {},
   "outputs": [],
   "source": [
    "from sklearn.preprocessing import MinMaxScaler\n",
    "from sklearn.model_selection import train_test_split\n",
    "from sklearn.linear_model import LinearRegression\n",
    "from sklearn import metrics"
   ]
  },
  {
   "cell_type": "code",
   "execution_count": 3,
   "metadata": {},
   "outputs": [],
   "source": [
    "data = pd.read_csv('startups.csv')"
   ]
  },
  {
   "cell_type": "code",
   "execution_count": 4,
   "metadata": {},
   "outputs": [
    {
     "data": {
      "text/html": [
       "<div>\n",
       "<style scoped>\n",
       "    .dataframe tbody tr th:only-of-type {\n",
       "        vertical-align: middle;\n",
       "    }\n",
       "\n",
       "    .dataframe tbody tr th {\n",
       "        vertical-align: top;\n",
       "    }\n",
       "\n",
       "    .dataframe thead th {\n",
       "        text-align: right;\n",
       "    }\n",
       "</style>\n",
       "<table border=\"1\" class=\"dataframe\">\n",
       "  <thead>\n",
       "    <tr style=\"text-align: right;\">\n",
       "      <th></th>\n",
       "      <th>R&amp;D Spend</th>\n",
       "      <th>Administration</th>\n",
       "      <th>Marketing Spend</th>\n",
       "      <th>State</th>\n",
       "      <th>Profit</th>\n",
       "    </tr>\n",
       "  </thead>\n",
       "  <tbody>\n",
       "    <tr>\n",
       "      <th>0</th>\n",
       "      <td>165349.20</td>\n",
       "      <td>136897.80</td>\n",
       "      <td>471784.10</td>\n",
       "      <td>New York</td>\n",
       "      <td>192261.83</td>\n",
       "    </tr>\n",
       "    <tr>\n",
       "      <th>1</th>\n",
       "      <td>162597.70</td>\n",
       "      <td>151377.59</td>\n",
       "      <td>443898.53</td>\n",
       "      <td>California</td>\n",
       "      <td>191792.06</td>\n",
       "    </tr>\n",
       "    <tr>\n",
       "      <th>2</th>\n",
       "      <td>153441.51</td>\n",
       "      <td>101145.55</td>\n",
       "      <td>407934.54</td>\n",
       "      <td>Florida</td>\n",
       "      <td>191050.39</td>\n",
       "    </tr>\n",
       "    <tr>\n",
       "      <th>3</th>\n",
       "      <td>144372.41</td>\n",
       "      <td>118671.85</td>\n",
       "      <td>383199.62</td>\n",
       "      <td>New York</td>\n",
       "      <td>182901.99</td>\n",
       "    </tr>\n",
       "    <tr>\n",
       "      <th>4</th>\n",
       "      <td>142107.34</td>\n",
       "      <td>91391.77</td>\n",
       "      <td>366168.42</td>\n",
       "      <td>Florida</td>\n",
       "      <td>166187.94</td>\n",
       "    </tr>\n",
       "  </tbody>\n",
       "</table>\n",
       "</div>"
      ],
      "text/plain": [
       "   R&D Spend  Administration  Marketing Spend       State     Profit\n",
       "0  165349.20       136897.80        471784.10    New York  192261.83\n",
       "1  162597.70       151377.59        443898.53  California  191792.06\n",
       "2  153441.51       101145.55        407934.54     Florida  191050.39\n",
       "3  144372.41       118671.85        383199.62    New York  182901.99\n",
       "4  142107.34        91391.77        366168.42     Florida  166187.94"
      ]
     },
     "execution_count": 4,
     "metadata": {},
     "output_type": "execute_result"
    }
   ],
   "source": [
    "data.head()"
   ]
  },
  {
   "cell_type": "code",
   "execution_count": 5,
   "metadata": {},
   "outputs": [
    {
     "name": "stdout",
     "output_type": "stream",
     "text": [
      "<class 'pandas.core.frame.DataFrame'>\n",
      "RangeIndex: 50 entries, 0 to 49\n",
      "Data columns (total 5 columns):\n",
      " #   Column           Non-Null Count  Dtype  \n",
      "---  ------           --------------  -----  \n",
      " 0   R&D Spend        50 non-null     float64\n",
      " 1   Administration   50 non-null     float64\n",
      " 2   Marketing Spend  50 non-null     float64\n",
      " 3   State            50 non-null     object \n",
      " 4   Profit           50 non-null     float64\n",
      "dtypes: float64(4), object(1)\n",
      "memory usage: 2.1+ KB\n"
     ]
    }
   ],
   "source": [
    "data.info()"
   ]
  },
  {
   "cell_type": "code",
   "execution_count": 6,
   "metadata": {},
   "outputs": [
    {
     "data": {
      "text/html": [
       "<div>\n",
       "<style scoped>\n",
       "    .dataframe tbody tr th:only-of-type {\n",
       "        vertical-align: middle;\n",
       "    }\n",
       "\n",
       "    .dataframe tbody tr th {\n",
       "        vertical-align: top;\n",
       "    }\n",
       "\n",
       "    .dataframe thead th {\n",
       "        text-align: right;\n",
       "    }\n",
       "</style>\n",
       "<table border=\"1\" class=\"dataframe\">\n",
       "  <thead>\n",
       "    <tr style=\"text-align: right;\">\n",
       "      <th></th>\n",
       "      <th>R&amp;D Spend</th>\n",
       "      <th>Administration</th>\n",
       "      <th>Marketing Spend</th>\n",
       "      <th>Profit</th>\n",
       "    </tr>\n",
       "  </thead>\n",
       "  <tbody>\n",
       "    <tr>\n",
       "      <th>count</th>\n",
       "      <td>50.000000</td>\n",
       "      <td>50.000000</td>\n",
       "      <td>50.000000</td>\n",
       "      <td>50.000000</td>\n",
       "    </tr>\n",
       "    <tr>\n",
       "      <th>mean</th>\n",
       "      <td>73721.615600</td>\n",
       "      <td>121344.639600</td>\n",
       "      <td>211025.097800</td>\n",
       "      <td>112012.639200</td>\n",
       "    </tr>\n",
       "    <tr>\n",
       "      <th>std</th>\n",
       "      <td>45902.256482</td>\n",
       "      <td>28017.802755</td>\n",
       "      <td>122290.310726</td>\n",
       "      <td>40306.180338</td>\n",
       "    </tr>\n",
       "    <tr>\n",
       "      <th>min</th>\n",
       "      <td>0.000000</td>\n",
       "      <td>51283.140000</td>\n",
       "      <td>0.000000</td>\n",
       "      <td>14681.400000</td>\n",
       "    </tr>\n",
       "    <tr>\n",
       "      <th>25%</th>\n",
       "      <td>39936.370000</td>\n",
       "      <td>103730.875000</td>\n",
       "      <td>129300.132500</td>\n",
       "      <td>90138.902500</td>\n",
       "    </tr>\n",
       "    <tr>\n",
       "      <th>50%</th>\n",
       "      <td>73051.080000</td>\n",
       "      <td>122699.795000</td>\n",
       "      <td>212716.240000</td>\n",
       "      <td>107978.190000</td>\n",
       "    </tr>\n",
       "    <tr>\n",
       "      <th>75%</th>\n",
       "      <td>101602.800000</td>\n",
       "      <td>144842.180000</td>\n",
       "      <td>299469.085000</td>\n",
       "      <td>139765.977500</td>\n",
       "    </tr>\n",
       "    <tr>\n",
       "      <th>max</th>\n",
       "      <td>165349.200000</td>\n",
       "      <td>182645.560000</td>\n",
       "      <td>471784.100000</td>\n",
       "      <td>192261.830000</td>\n",
       "    </tr>\n",
       "  </tbody>\n",
       "</table>\n",
       "</div>"
      ],
      "text/plain": [
       "           R&D Spend  Administration  Marketing Spend         Profit\n",
       "count      50.000000       50.000000        50.000000      50.000000\n",
       "mean    73721.615600   121344.639600    211025.097800  112012.639200\n",
       "std     45902.256482    28017.802755    122290.310726   40306.180338\n",
       "min         0.000000    51283.140000         0.000000   14681.400000\n",
       "25%     39936.370000   103730.875000    129300.132500   90138.902500\n",
       "50%     73051.080000   122699.795000    212716.240000  107978.190000\n",
       "75%    101602.800000   144842.180000    299469.085000  139765.977500\n",
       "max    165349.200000   182645.560000    471784.100000  192261.830000"
      ]
     },
     "execution_count": 6,
     "metadata": {},
     "output_type": "execute_result"
    }
   ],
   "source": [
    "data.describe()"
   ]
  },
  {
   "cell_type": "code",
   "execution_count": 7,
   "metadata": {},
   "outputs": [
    {
     "data": {
      "text/plain": [
       "Text(0.5, 1.0, 'Profit vs Marketing Spend')"
      ]
     },
     "execution_count": 7,
     "metadata": {},
     "output_type": "execute_result"
    },
    {
     "data": {
      "image/png": "[encoded data removed]",
      "text/plain": [
       "<Figure size 432x288 with 1 Axes>"
      ]
     },
     "metadata": {
      "needs_background": "light"
     },
     "output_type": "display_data"
    }
   ],
   "source": [
    "plt.scatter(data.Profit,data['Marketing Spend'])\n",
    "plt.title('Profit vs Marketing Spend')"
   ]
  },
  {
   "cell_type": "code",
   "execution_count": 8,
   "metadata": {},
   "outputs": [
    {
     "data": {
      "text/plain": [
       "Text(0.5, 1.0, 'Profit vs R&D Spend')"
      ]
     },
     "execution_count": 8,
     "metadata": {},
     "output_type": "execute_result"
    },
    {
     "data": {
      "image/png": "[encoded data removed]",
      "text/plain": [
       "<Figure size 432x288 with 1 Axes>"
      ]
     },
     "metadata": {
      "needs_background": "light"
     },
     "output_type": "display_data"
    }
   ],
   "source": [
    "plt.scatter(data.Profit,data['R&D Spend'])\n",
    "plt.title('Profit vs R&D Spend')"
   ]
  },
  {
   "cell_type": "code",
   "execution_count": 9,
   "metadata": {},
   "outputs": [
    {
     "data": {
      "text/plain": [
       "Text(0.5, 1.0, 'Profit vs Administration')"
      ]
     },
     "execution_count": 9,
     "metadata": {},
     "output_type": "execute_result"
    },
    {
     "data": {
      "image/png": "[encoded data removed]",
      "text/plain": [
       "<Figure size 432x288 with 1 Axes>"
      ]
     },
     "metadata": {
      "needs_background": "light"
     },
     "output_type": "display_data"
    }
   ],
   "source": [
    "plt.scatter(data.Profit,data['Administration'])\n",
    "plt.title('Profit vs Administration')"
   ]
  },
  {
   "cell_type": "code",
   "execution_count": 10,
   "metadata": {},
   "outputs": [
    {
     "data": {
      "text/plain": [
       "<AxesSubplot:xlabel='State'>"
      ]
     },
     "execution_count": 10,
     "metadata": {},
     "output_type": "execute_result"
    },
    {
     "data": {
      "image/png": "[encoded data removed]",
      "text/plain": [
       "<Figure size 432x288 with 1 Axes>"
      ]
     },
     "metadata": {
      "needs_background": "light"
     },
     "output_type": "display_data"
    }
   ],
   "source": [
    "data.groupby(['State'])['Profit'].mean().plot(kind='bar')"
   ]
  },
  {
   "cell_type": "code",
   "execution_count": 11,
   "metadata": {},
   "outputs": [],
   "source": [
    "data['California'] = np.where(data['State']=='California',1,0)\n",
    "data['New York'] = np.where(data['State']=='New York',1,0)\n",
    "data['Florida'] = np.where(data['State']=='Florida',1,0)"
   ]
  },
  {
   "cell_type": "code",
   "execution_count": 12,
   "metadata": {},
   "outputs": [
    {
     "data": {
      "text/html": [
       "<div>\n",
       "<style scoped>\n",
       "    .dataframe tbody tr th:only-of-type {\n",
       "        vertical-align: middle;\n",
       "    }\n",
       "\n",
       "    .dataframe tbody tr th {\n",
       "        vertical-align: top;\n",
       "    }\n",
       "\n",
       "    .dataframe thead th {\n",
       "        text-align: right;\n",
       "    }\n",
       "</style>\n",
       "<table border=\"1\" class=\"dataframe\">\n",
       "  <thead>\n",
       "    <tr style=\"text-align: right;\">\n",
       "      <th></th>\n",
       "      <th>R&amp;D Spend</th>\n",
       "      <th>Administration</th>\n",
       "      <th>Marketing Spend</th>\n",
       "      <th>State</th>\n",
       "      <th>Profit</th>\n",
       "      <th>California</th>\n",
       "      <th>New York</th>\n",
       "      <th>Florida</th>\n",
       "    </tr>\n",
       "  </thead>\n",
       "  <tbody>\n",
       "    <tr>\n",
       "      <th>0</th>\n",
       "      <td>165349.20</td>\n",
       "      <td>136897.80</td>\n",
       "      <td>471784.10</td>\n",
       "      <td>New York</td>\n",
       "      <td>192261.83</td>\n",
       "      <td>0</td>\n",
       "      <td>1</td>\n",
       "      <td>0</td>\n",
       "    </tr>\n",
       "    <tr>\n",
       "      <th>1</th>\n",
       "      <td>162597.70</td>\n",
       "      <td>151377.59</td>\n",
       "      <td>443898.53</td>\n",
       "      <td>California</td>\n",
       "      <td>191792.06</td>\n",
       "      <td>1</td>\n",
       "      <td>0</td>\n",
       "      <td>0</td>\n",
       "    </tr>\n",
       "    <tr>\n",
       "      <th>2</th>\n",
       "      <td>153441.51</td>\n",
       "      <td>101145.55</td>\n",
       "      <td>407934.54</td>\n",
       "      <td>Florida</td>\n",
       "      <td>191050.39</td>\n",
       "      <td>0</td>\n",
       "      <td>0</td>\n",
       "      <td>1</td>\n",
       "    </tr>\n",
       "    <tr>\n",
       "      <th>3</th>\n",
       "      <td>144372.41</td>\n",
       "      <td>118671.85</td>\n",
       "      <td>383199.62</td>\n",
       "      <td>New York</td>\n",
       "      <td>182901.99</td>\n",
       "      <td>0</td>\n",
       "      <td>1</td>\n",
       "      <td>0</td>\n",
       "    </tr>\n",
       "    <tr>\n",
       "      <th>4</th>\n",
       "      <td>142107.34</td>\n",
       "      <td>91391.77</td>\n",
       "      <td>366168.42</td>\n",
       "      <td>Florida</td>\n",
       "      <td>166187.94</td>\n",
       "      <td>0</td>\n",
       "      <td>0</td>\n",
       "      <td>1</td>\n",
       "    </tr>\n",
       "  </tbody>\n",
       "</table>\n",
       "</div>"
      ],
      "text/plain": [
       "   R&D Spend  Administration  Marketing Spend       State     Profit  \\\n",
       "0  165349.20       136897.80        471784.10    New York  192261.83   \n",
       "1  162597.70       151377.59        443898.53  California  191792.06   \n",
       "2  153441.51       101145.55        407934.54     Florida  191050.39   \n",
       "3  144372.41       118671.85        383199.62    New York  182901.99   \n",
       "4  142107.34        91391.77        366168.42     Florida  166187.94   \n",
       "\n",
       "   California  New York  Florida  \n",
       "0           0         1        0  \n",
       "1           1         0        0  \n",
       "2           0         0        1  \n",
       "3           0         1        0  \n",
       "4           0         0        1  "
      ]
     },
     "execution_count": 12,
     "metadata": {},
     "output_type": "execute_result"
    }
   ],
   "source": [
    "data.head()"
   ]
  },
  {
   "cell_type": "code",
   "execution_count": 13,
   "metadata": {},
   "outputs": [],
   "source": [
    "data.drop(columns=['State'],axis= 1,inplace=True)"
   ]
  },
  {
   "cell_type": "code",
   "execution_count": 14,
   "metadata": {},
   "outputs": [],
   "source": [
    "dv = ['Profit']\n",
    "iv = set(data.columns)-set(dv)"
   ]
  },
  {
   "cell_type": "code",
   "execution_count": 15,
   "metadata": {},
   "outputs": [
    {
     "data": {
      "text/plain": [
       "{'Administration',\n",
       " 'California',\n",
       " 'Florida',\n",
       " 'Marketing Spend',\n",
       " 'New York',\n",
       " 'R&D Spend'}"
      ]
     },
     "execution_count": 15,
     "metadata": {},
     "output_type": "execute_result"
    }
   ],
   "source": [
    "iv"
   ]
  },
  {
   "cell_type": "code",
   "execution_count": 16,
   "metadata": {},
   "outputs": [],
   "source": [
    "y=data[dv].values"
   ]
  },
  {
   "cell_type": "code",
   "execution_count": 17,
   "metadata": {},
   "outputs": [
    {
     "data": {
      "text/plain": [
       "array([[1.3689780e+05, 0.0000000e+00, 1.6534920e+05, 1.0000000e+00,\n",
       "        0.0000000e+00, 4.7178410e+05],\n",
       "       [1.5137759e+05, 1.0000000e+00, 1.6259770e+05, 0.0000000e+00,\n",
       "        0.0000000e+00, 4.4389853e+05],\n",
       "       [1.0114555e+05, 0.0000000e+00, 1.5344151e+05, 0.0000000e+00,\n",
       "        1.0000000e+00, 4.0793454e+05],\n",
       "       [1.1867185e+05, 0.0000000e+00, 1.4437241e+05, 1.0000000e+00,\n",
       "        0.0000000e+00, 3.8319962e+05],\n",
       "       [9.1391770e+04, 0.0000000e+00, 1.4210734e+05, 0.0000000e+00,\n",
       "        1.0000000e+00, 3.6616842e+05],\n",
       "       [9.9814710e+04, 0.0000000e+00, 1.3187690e+05, 1.0000000e+00,\n",
       "        0.0000000e+00, 3.6286136e+05],\n",
       "       [1.4719887e+05, 1.0000000e+00, 1.3461546e+05, 0.0000000e+00,\n",
       "        0.0000000e+00, 1.2771682e+05],\n",
       "       [1.4553006e+05, 0.0000000e+00, 1.3029813e+05, 0.0000000e+00,\n",
       "        1.0000000e+00, 3.2387668e+05],\n",
       "       [1.4871895e+05, 0.0000000e+00, 1.2054252e+05, 1.0000000e+00,\n",
       "        0.0000000e+00, 3.1161329e+05],\n",
       "       [1.0867917e+05, 1.0000000e+00, 1.2333488e+05, 0.0000000e+00,\n",
       "        0.0000000e+00, 3.0498162e+05],\n",
       "       [1.1059411e+05, 0.0000000e+00, 1.0191308e+05, 0.0000000e+00,\n",
       "        1.0000000e+00, 2.2916095e+05],\n",
       "       [9.1790610e+04, 1.0000000e+00, 1.0067196e+05, 0.0000000e+00,\n",
       "        0.0000000e+00, 2.4974455e+05],\n",
       "       [1.2732038e+05, 0.0000000e+00, 9.3863750e+04, 0.0000000e+00,\n",
       "        1.0000000e+00, 2.4983944e+05],\n",
       "       [1.3549507e+05, 1.0000000e+00, 9.1992390e+04, 0.0000000e+00,\n",
       "        0.0000000e+00, 2.5266493e+05],\n",
       "       [1.5654742e+05, 0.0000000e+00, 1.1994324e+05, 0.0000000e+00,\n",
       "        1.0000000e+00, 2.5651292e+05],\n",
       "       [1.2261684e+05, 0.0000000e+00, 1.1452361e+05, 1.0000000e+00,\n",
       "        0.0000000e+00, 2.6177623e+05],\n",
       "       [1.2159755e+05, 1.0000000e+00, 7.8013110e+04, 0.0000000e+00,\n",
       "        0.0000000e+00, 2.6434606e+05],\n",
       "       [1.4507758e+05, 0.0000000e+00, 9.4657160e+04, 1.0000000e+00,\n",
       "        0.0000000e+00, 2.8257431e+05],\n",
       "       [1.1417579e+05, 0.0000000e+00, 9.1749160e+04, 0.0000000e+00,\n",
       "        1.0000000e+00, 2.9491957e+05],\n",
       "       [1.5351411e+05, 0.0000000e+00, 8.6419700e+04, 1.0000000e+00,\n",
       "        0.0000000e+00, 0.0000000e+00],\n",
       "       [1.1386730e+05, 1.0000000e+00, 7.6253860e+04, 0.0000000e+00,\n",
       "        0.0000000e+00, 2.9866447e+05],\n",
       "       [1.5377343e+05, 0.0000000e+00, 7.8389470e+04, 1.0000000e+00,\n",
       "        0.0000000e+00, 2.9973729e+05],\n",
       "       [1.2278275e+05, 0.0000000e+00, 7.3994560e+04, 0.0000000e+00,\n",
       "        1.0000000e+00, 3.0331926e+05],\n",
       "       [1.0575103e+05, 0.0000000e+00, 6.7532530e+04, 0.0000000e+00,\n",
       "        1.0000000e+00, 3.0476873e+05],\n",
       "       [9.9281340e+04, 0.0000000e+00, 7.7044010e+04, 1.0000000e+00,\n",
       "        0.0000000e+00, 1.4057481e+05],\n",
       "       [1.3955316e+05, 1.0000000e+00, 6.4664710e+04, 0.0000000e+00,\n",
       "        0.0000000e+00, 1.3796262e+05],\n",
       "       [1.4413598e+05, 0.0000000e+00, 7.5328870e+04, 0.0000000e+00,\n",
       "        1.0000000e+00, 1.3405007e+05],\n",
       "       [1.2786455e+05, 0.0000000e+00, 7.2107600e+04, 1.0000000e+00,\n",
       "        0.0000000e+00, 3.5318381e+05],\n",
       "       [1.8264556e+05, 0.0000000e+00, 6.6051520e+04, 0.0000000e+00,\n",
       "        1.0000000e+00, 1.1814820e+05],\n",
       "       [1.5303206e+05, 0.0000000e+00, 6.5605480e+04, 1.0000000e+00,\n",
       "        0.0000000e+00, 1.0713838e+05],\n",
       "       [1.1564128e+05, 0.0000000e+00, 6.1994480e+04, 0.0000000e+00,\n",
       "        1.0000000e+00, 9.1131240e+04],\n",
       "       [1.5270192e+05, 0.0000000e+00, 6.1136380e+04, 1.0000000e+00,\n",
       "        0.0000000e+00, 8.8218230e+04],\n",
       "       [1.2921961e+05, 1.0000000e+00, 6.3408860e+04, 0.0000000e+00,\n",
       "        0.0000000e+00, 4.6085250e+04],\n",
       "       [1.0305749e+05, 0.0000000e+00, 5.5493950e+04, 0.0000000e+00,\n",
       "        1.0000000e+00, 2.1463481e+05],\n",
       "       [1.5769392e+05, 1.0000000e+00, 4.6426070e+04, 0.0000000e+00,\n",
       "        0.0000000e+00, 2.1079767e+05],\n",
       "       [8.5047440e+04, 0.0000000e+00, 4.6014020e+04, 1.0000000e+00,\n",
       "        0.0000000e+00, 2.0551764e+05],\n",
       "       [1.2705621e+05, 0.0000000e+00, 2.8663760e+04, 0.0000000e+00,\n",
       "        1.0000000e+00, 2.0112682e+05],\n",
       "       [5.1283140e+04, 1.0000000e+00, 4.4069950e+04, 0.0000000e+00,\n",
       "        0.0000000e+00, 1.9702942e+05],\n",
       "       [6.5947930e+04, 0.0000000e+00, 2.0229590e+04, 1.0000000e+00,\n",
       "        0.0000000e+00, 1.8526510e+05],\n",
       "       [8.2982090e+04, 1.0000000e+00, 3.8558510e+04, 0.0000000e+00,\n",
       "        0.0000000e+00, 1.7499930e+05],\n",
       "       [1.1854605e+05, 1.0000000e+00, 2.8754330e+04, 0.0000000e+00,\n",
       "        0.0000000e+00, 1.7279567e+05],\n",
       "       [8.4710770e+04, 0.0000000e+00, 2.7892920e+04, 0.0000000e+00,\n",
       "        1.0000000e+00, 1.6447071e+05],\n",
       "       [9.6189630e+04, 1.0000000e+00, 2.3640930e+04, 0.0000000e+00,\n",
       "        0.0000000e+00, 1.4800111e+05],\n",
       "       [1.2738230e+05, 0.0000000e+00, 1.5505730e+04, 1.0000000e+00,\n",
       "        0.0000000e+00, 3.5534170e+04],\n",
       "       [1.5480614e+05, 1.0000000e+00, 2.2177740e+04, 0.0000000e+00,\n",
       "        0.0000000e+00, 2.8334720e+04],\n",
       "       [1.2415304e+05, 0.0000000e+00, 1.0002300e+03, 1.0000000e+00,\n",
       "        0.0000000e+00, 1.9039300e+03],\n",
       "       [1.1581621e+05, 0.0000000e+00, 1.3154600e+03, 0.0000000e+00,\n",
       "        1.0000000e+00, 2.9711446e+05],\n",
       "       [1.3542692e+05, 1.0000000e+00, 0.0000000e+00, 0.0000000e+00,\n",
       "        0.0000000e+00, 0.0000000e+00],\n",
       "       [5.1743150e+04, 0.0000000e+00, 5.4205000e+02, 1.0000000e+00,\n",
       "        0.0000000e+00, 0.0000000e+00],\n",
       "       [1.1698380e+05, 1.0000000e+00, 0.0000000e+00, 0.0000000e+00,\n",
       "        0.0000000e+00, 4.5173060e+04]])"
      ]
     },
     "execution_count": 17,
     "metadata": {},
     "output_type": "execute_result"
    }
   ],
   "source": [
    "x=data[iv].values\n",
    "x"
   ]
  },
  {
   "cell_type": "code",
   "execution_count": 18,
   "metadata": {},
   "outputs": [],
   "source": [
    "x_train , x_test , y_train , y_test = train_test_split(x,y,test_size = 0.2,random_state=0) "
   ]
  },
  {
   "cell_type": "code",
   "execution_count": 19,
   "metadata": {},
   "outputs": [],
   "source": [
    "#Tranforming Data\n",
    "x_train = MinMaxScaler().fit_transform(x_train)\n",
    "x_test = MinMaxScaler().fit_transform(x_test)"
   ]
  },
  {
   "cell_type": "code",
   "execution_count": 20,
   "metadata": {},
   "outputs": [
    {
     "data": {
      "text/plain": [
       "array([[0.48655174, 0.        , 0.33561668, 0.        , 1.        ,\n",
       "        0.45494286],\n",
       "       [0.3173015 , 0.        , 0.2782839 , 1.        , 0.        ,\n",
       "        0.43561799],\n",
       "       [0.87258866, 0.        , 0.45557444, 0.        , 1.        ,\n",
       "        0.28413435],\n",
       "       [1.        , 1.        , 0.2807759 , 0.        , 0.        ,\n",
       "        0.44680961],\n",
       "       [0.59103645, 0.        , 0.55488118, 0.        , 1.        ,\n",
       "        0.62511553],\n",
       "       [0.88568959, 0.        , 0.7880179 , 0.        , 1.        ,\n",
       "        0.68649342],\n",
       "       [0.98922572, 0.        , 0.72539353, 0.        , 1.        ,\n",
       "        0.54370828],\n",
       "       [0.6847981 , 0.        , 0.0060492 , 1.        , 0.        ,\n",
       "        0.0040356 ],\n",
       "       [0.00432296, 0.        , 0.00327821, 1.        , 0.        ,\n",
       "        0.        ],\n",
       "       [0.95618996, 0.        , 0.39676926, 1.        , 0.        ,\n",
       "        0.22709197]])"
      ]
     },
     "execution_count": 20,
     "metadata": {},
     "output_type": "execute_result"
    }
   ],
   "source": [
    "x_train[:10]"
   ]
  },
  {
   "cell_type": "code",
   "execution_count": 21,
   "metadata": {},
   "outputs": [],
   "source": [
    "regressor = LinearRegression()"
   ]
  },
  {
   "cell_type": "code",
   "execution_count": 22,
   "metadata": {},
   "outputs": [
    {
     "data": {
      "text/plain": [
       "LinearRegression()"
      ]
     },
     "execution_count": 22,
     "metadata": {},
     "output_type": "execute_result"
    }
   ],
   "source": [
    "regressor.fit(x_train,y_train)"
   ]
  },
  {
   "cell_type": "code",
   "execution_count": 23,
   "metadata": {},
   "outputs": [
    {
     "data": {
      "text/plain": [
       "array([[ 3.49927567e+03,  8.66383692e+01,  1.27892182e+05,\n",
       "         7.86007422e+02, -8.72645791e+02,  1.72720281e+04]])"
      ]
     },
     "execution_count": 23,
     "metadata": {},
     "output_type": "execute_result"
    }
   ],
   "source": [
    "regressor.coef_"
   ]
  },
  {
   "cell_type": "code",
   "execution_count": 24,
   "metadata": {},
   "outputs": [
    {
     "data": {
      "text/plain": [
       "array([44153.95466785])"
      ]
     },
     "execution_count": 24,
     "metadata": {},
     "output_type": "execute_result"
    }
   ],
   "source": [
    "regressor.intercept_"
   ]
  },
  {
   "cell_type": "code",
   "execution_count": 25,
   "metadata": {},
   "outputs": [],
   "source": [
    "y_pred_train = regressor.predict(x_train)\n",
    "y_pred = regressor.predict(x_test)"
   ]
  },
  {
   "cell_type": "code",
   "execution_count": 32,
   "metadata": {},
   "outputs": [
    {
     "data": {
      "text/plain": [
       "array([[ 92389.54934362],\n",
       "       [130971.5926314 ],\n",
       "       [130655.7162717 ],\n",
       "       [ 55320.61403173],\n",
       "       [189500.94848885],\n",
       "       [110917.10665358],\n",
       "       [ 50182.72329233],\n",
       "       [ 86814.55454313],\n",
       "       [108223.84518171],\n",
       "       [176070.59627474]])"
      ]
     },
     "execution_count": 32,
     "metadata": {},
     "output_type": "execute_result"
    }
   ],
   "source": [
    "y_pred"
   ]
  },
  {
   "cell_type": "code",
   "execution_count": 33,
   "metadata": {},
   "outputs": [
    {
     "data": {
      "text/plain": [
       "array([[103282.38],\n",
       "       [144259.4 ],\n",
       "       [146121.95],\n",
       "       [ 77798.83],\n",
       "       [191050.39],\n",
       "       [105008.31],\n",
       "       [ 81229.06],\n",
       "       [ 97483.56],\n",
       "       [110352.25],\n",
       "       [166187.94]])"
      ]
     },
     "execution_count": 33,
     "metadata": {},
     "output_type": "execute_result"
    }
   ],
   "source": [
    "y_test"
   ]
  },
  {
   "cell_type": "code",
   "execution_count": 26,
   "metadata": {},
   "outputs": [
    {
     "data": {
      "text/plain": [
       "<matplotlib.collections.PathCollection at 0x1ce7510ee50>"
      ]
     },
     "execution_count": 26,
     "metadata": {},
     "output_type": "execute_result"
    },
    {
     "data": {
      "image/png": "[encoded data removed]",
      "text/plain": [
       "<Figure size 432x288 with 1 Axes>"
      ]
     },
     "metadata": {
      "needs_background": "light"
     },
     "output_type": "display_data"
    }
   ],
   "source": [
    "plt.scatter(y_pred_train,y_train)"
   ]
  },
  {
   "cell_type": "code",
   "execution_count": 34,
   "metadata": {},
   "outputs": [
    {
     "data": {
      "text/plain": [
       "0.9501847627493607"
      ]
     },
     "execution_count": 34,
     "metadata": {},
     "output_type": "execute_result"
    }
   ],
   "source": [
    "metrics.r2_score(y_train,y_pred_train)"
   ]
  },
  {
   "cell_type": "code",
   "execution_count": 35,
   "metadata": {},
   "outputs": [
    {
     "data": {
      "text/plain": [
       "0.823526206209644"
      ]
     },
     "execution_count": 35,
     "metadata": {},
     "output_type": "execute_result"
    }
   ],
   "source": [
    "metrics.r2_score(y_test,y_pred)"
   ]
  },
  {
   "cell_type": "code",
   "execution_count": 29,
   "metadata": {},
   "outputs": [
    {
     "data": {
      "text/plain": [
       "array([[103282.38],\n",
       "       [144259.4 ],\n",
       "       [146121.95],\n",
       "       [ 77798.83],\n",
       "       [191050.39],\n",
       "       [105008.31],\n",
       "       [ 81229.06],\n",
       "       [ 97483.56],\n",
       "       [110352.25],\n",
       "       [166187.94]])"
      ]
     },
     "execution_count": 29,
     "metadata": {},
     "output_type": "execute_result"
    }
   ],
   "source": [
    "y_test"
   ]
  },
  {
   "cell_type": "code",
   "execution_count": 30,
   "metadata": {},
   "outputs": [
    {
     "data": {
      "text/plain": [
       "9031.666612578969"
      ]
     },
     "execution_count": 30,
     "metadata": {},
     "output_type": "execute_result"
    }
   ],
   "source": [
    "math.sqrt(metrics.mean_squared_error(y_train,y_pred_train))"
   ]
  },
  {
   "cell_type": "code",
   "execution_count": 31,
   "metadata": {},
   "outputs": [
    {
     "data": {
      "text/plain": [
       "15023.010725678312"
      ]
     },
     "execution_count": 31,
     "metadata": {},
     "output_type": "execute_result"
    }
   ],
   "source": [
    "math.sqrt(metrics.mean_squared_error(y_test,y_pred))"
   ]
  },
  {
   "cell_type": "code",
   "execution_count": null,
   "metadata": {},
   "outputs": [],
   "source": []
  }
 ],
 "metadata": {
  "kernelspec": {
   "display_name": "Python 3",
   "language": "python",
   "name": "python3"
  },
  "language_info": {
   "codemirror_mode": {
    "name": "ipython",
    "version": 3
   },
   "file_extension": ".py",
   "mimetype": "text/x-python",
   "name": "python",
   "nbconvert_exporter": "python",
   "pygments_lexer": "ipython3",
   "version": "3.8.3"
  }
 },
 "nbformat": 4,
 "nbformat_minor": 4
}
